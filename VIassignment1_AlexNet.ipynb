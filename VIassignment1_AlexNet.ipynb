{
 "cells": [
  {
   "metadata": {},
   "cell_type": "markdown",
   "source": "**Vision and Image——Assignment1**",
   "id": "c2e5ad23a0d1876b"
  },
  {
   "metadata": {},
   "cell_type": "markdown",
   "source": [
    "-**Data**\n",
    "\n",
    "-**数据集来自已知zip文件的28,493 张图片和 50 张测试查询图片**"
   ],
   "id": "3ced3eb21733556a"
  },
  {
   "metadata": {},
   "cell_type": "markdown",
   "source": [
    "-**Goal**\n",
    "\n",
    "-**已知每幅图像包含一个或两个实例（对象）。使用两种any two object matching methods来进行示例搜索，包括不限于直方图、LBP、滤波器组、AlexNet、YOLO、Fast R-CNN、Faster R-CNN、SIFT、词袋模型等**\n",
    "\n",
    "-**给定一张带有一个或多个边界框（在query_txt文件夹中的相应文本文件中描述）的图像作为查询，从图像集合中检索包含相同实例的十张最相似的图像。在报告中显示查询 1-5 中与实例边界框匹配的前十张图像。您需要显示至少一种方法的结果。**\n",
    "\n",
    "-**至少有一种方法基于深度神经网络**"
   ],
   "id": "b933f17526971cd9"
  },
  {
   "metadata": {},
   "cell_type": "markdown",
   "source": [
    "-**Final_Submission**\n",
    "\n",
    "-**1.将 50 个查询的检索结果（包含 28,493 幅图像的排序列表，按相似度降序排列）列于文本文件 rankList.txt 中（参见提交指南）。您最多可以提交两个 RUN（两个 rankList），每个 RUN 都采用不同的方法。分数将根据您检索性能更优的 RUN 分配。（20%）**\n",
    "\n",
    "-**2. 提交一份简短的报告，篇幅在1至6页之间。报告应简要描述并分析你的研究方法。（20%）**"
   ],
   "id": "9134b79ea80d8d76"
  },
  {
   "metadata": {},
   "cell_type": "markdown",
   "source": [
    "-**初步思路**\n",
    "\n",
    "-**采取AlexNet神经网络模型与SIFT模型来进行示例搜索**\n"
   ],
   "id": "2c68b33297ed40df"
  },
  {
   "metadata": {},
   "cell_type": "markdown",
   "source": "任务一：训练集图片信息的查询",
   "id": "cdab28894fc3edda"
  },
  {
   "metadata": {
    "ExecuteTime": {
     "end_time": "2025-10-24T01:29:36.681486Z",
     "start_time": "2025-10-24T01:25:35.965463Z"
    }
   },
   "cell_type": "code",
   "source": [
    "#查询最大的图片尺寸\n",
    "import os\n",
    "from PIL import Image\n",
    "\n",
    "folder_path = \"gallery_images\"\n",
    "max_size = (0, 0)\n",
    "\n",
    "for filename in os.listdir(folder_path):\n",
    "    if filename.lower().endswith(('png', 'jpg', 'jpeg')):\n",
    "        try:\n",
    "            with Image.open(os.path.join(folder_path, filename)) as img:\n",
    "                if img.size[0] * img.size[1] > max_size[0] * max_size[1]:\n",
    "                    max_size = img.size\n",
    "        except:\n",
    "            continue\n",
    "\n",
    "print(f\"最大图片尺寸: {max_size[0]} x {max_size[1]} 像素\")"
   ],
   "id": "908529f7f7a2b844",
   "outputs": [
    {
     "name": "stdout",
     "output_type": "stream",
     "text": [
      "最大图片尺寸: 1000 x 1000 像素\n"
     ]
    }
   ],
   "execution_count": 35
  },
  {
   "metadata": {},
   "cell_type": "markdown",
   "source": "得出最大图片尺寸为：1000*1000 pixels",
   "id": "4e3f1bb9f1b3441a"
  },
  {
   "metadata": {},
   "cell_type": "markdown",
   "source": [
    "任务二：AlexNet方法，构建卷积神经网络模型\n",
    "解释AlexNet是什么：\n",
    "AlexNet是一个经典的深度卷积神经网络模型。它在2012年的ImageNet大规模视觉识别挑战赛中一举夺魁，其top-5错误率远低于第二名，震惊了整个计算机视觉领域。某些意义上来说，AlexNet的成功开启了深度学习在计算机视觉领域的新时代。\n",
    "\n",
    "AlexNet的几大特点有：1.使用ReLU激活函数：在AlexNet之前，神经网络普遍使用Sigmoid或Tanh等激活函数，它们在训练深层网络时容易导致梯度消                  失问题。AlexNet采用了ReLU 作为激活函数，极大地加快了训练速度，使得训练如此深度的网络成为可能。       \n",
    "                  2.引入Dropout层：为了应对深层网络容易产生的过拟合问题，AlexNet在全连接层中使用了Dropout技术。即在训练时随机“丢弃”一部分神经元，强迫网络学习更鲁棒的特征，从而提高了模型的泛化能力。\n",
    "                  3.重叠池化：与传统的池化操作不同，AlexNet使用了步长小于池化窗口大小的重叠池化，这在一定程度上有助于降低过拟合。\n",
    "                  \n",
    "AlexNet模型的基本结构：\n",
    "AlexNet总共包含8个学习层：5个卷积层和3个全连接层。它的输入是固定大小的224x224x3（RGB图像）的图片。\n",
    "\n",
    "一个简化的流程是：\n",
    "输入图像 → [卷积+ReLU+池化] → [卷积+ReLU+池化] → [卷积+ReLU] → [卷积+ReLU] → [卷积+ReLU+池化] → [全连接+ReLU+Dropout] → [全连接+ReLU+Dropout] → 输出层\n",
    "\n",
    "最终的输出是一个1000个单元的Softmax层，对应ImageNet数据集的1000个分类类别。\n",
    "本次任务中，不依靠这个softmax输出，而是移除最后的分类层，使用特征提取器"
   ],
   "id": "4476e1c02ab542a1"
  },
  {
   "metadata": {},
   "cell_type": "markdown",
   "source": [
    "在判断两张图片之间的相似度的算法上，我采取余弦相似度的算法方式，余弦相似度通过将特征转化为相应的特征向量，然后比对两张图片中特征的特征向量之间的余弦值的大小，判断两张图片之间的关联性。\n",
    "这一算法有着如下优势：只关注特征向量的方向，不关注大小；对光照变化、对比度变化不敏感；在图像检索中效果更好\n",
    "\n",
    "为什么能这么做：因为的测试集中特征的边界信息框已经由query_txt提供给我，这样我就能快速的将图像特征直接转化为对应的特征向量。\n",
    "\n",
    "为什么训练集没有标注特征框而不影响使用：因为我的计划中训练集不参与模型训练，只是提供特征数据库，供测试集使用预训练的AlexNet模型进行比对即可。（也可以采取自行训练AlexNet模型的方式，但是这样一来任务变成无监督学习，需要由模型给训练集自行打标，并且再设计全新的特征提取方式，任务难度直线上升不说，自己训练的模型肯定不如公开的预训练好）\n",
    "\n",
    "预训练模型：torchvision.models.alexnet(pretrained=True) 中的预训练模型是自动下载的！这是PyTorch官方提供的在ImageNet-1k数据集上预训练的AlexNet模型，模型文件约~230MB。高效简洁。\n"
   ],
   "id": "d1877f9cf7744020"
  },
  {
   "metadata": {
    "ExecuteTime": {
     "end_time": "2025-10-24T01:49:29.108456Z",
     "start_time": "2025-10-24T01:49:29.084374Z"
    }
   },
   "cell_type": "code",
   "source": [
    "#导入对应的函数库\n",
    "import os\n",
    "import pickle\n",
    "import numpy as np\n",
    "import re\n",
    "from PIL import Image\n",
    "\n",
    "# PyTorch相关import\n",
    "import torch\n",
    "import torchvision.models as models\n",
    "import torchvision.transforms as transforms\n",
    "import torch.nn as nn\n",
    "\n",
    "# sklearn相关import\n",
    "from sklearn.metrics.pairwise import cosine_similarity"
   ],
   "id": "1fb1b4a5a00a96f9",
   "outputs": [
    {
     "ename": "ModuleNotFoundError",
     "evalue": "No module named 'torch'",
     "output_type": "error",
     "traceback": [
      "\u001B[1;31m---------------------------------------------------------------------------\u001B[0m",
      "\u001B[1;31mModuleNotFoundError\u001B[0m                       Traceback (most recent call last)",
      "Cell \u001B[1;32mIn[16], line 9\u001B[0m\n\u001B[0;32m      6\u001B[0m \u001B[38;5;28;01mfrom\u001B[39;00m \u001B[38;5;21;01mPIL\u001B[39;00m \u001B[38;5;28;01mimport\u001B[39;00m Image\n\u001B[0;32m      8\u001B[0m \u001B[38;5;66;03m# PyTorch相关import\u001B[39;00m\n\u001B[1;32m----> 9\u001B[0m \u001B[38;5;28;01mimport\u001B[39;00m \u001B[38;5;21;01mtorch\u001B[39;00m\n\u001B[0;32m     10\u001B[0m \u001B[38;5;28;01mimport\u001B[39;00m \u001B[38;5;21;01mtorchvision\u001B[39;00m\u001B[38;5;21;01m.\u001B[39;00m\u001B[38;5;21;01mmodels\u001B[39;00m \u001B[38;5;28;01mas\u001B[39;00m \u001B[38;5;21;01mmodels\u001B[39;00m\n\u001B[0;32m     11\u001B[0m \u001B[38;5;28;01mimport\u001B[39;00m \u001B[38;5;21;01mtorchvision\u001B[39;00m\u001B[38;5;21;01m.\u001B[39;00m\u001B[38;5;21;01mtransforms\u001B[39;00m \u001B[38;5;28;01mas\u001B[39;00m \u001B[38;5;21;01mtransforms\u001B[39;00m\n",
      "\u001B[1;31mModuleNotFoundError\u001B[0m: No module named 'torch'"
     ]
    }
   ],
   "execution_count": 16
  },
  {
   "metadata": {
    "ExecuteTime": {
     "end_time": "2025-10-24T01:46:40.141376Z",
     "start_time": "2025-10-24T01:46:40.116387Z"
    }
   },
   "cell_type": "code",
   "source": [
    "def extract_alexnet_features_from_image(image_path, bbox=None):\n",
    "    \"\"\"使用预训练的AlexNet提取特征（简化版本）\"\"\"\n",
    "    import torch\n",
    "    import torchvision.models as models\n",
    "    import torchvision.transforms as transforms\n",
    "    from PIL import Image\n",
    "    \n",
    "    # 加载预训练的AlexNet\n",
    "    model = models.alexnet(pretrained=True)\n",
    "    # 移除最后的分类层，使用特征提取部分\n",
    "    feature_extractor = torch.nn.Sequential(*list(model.children())[:-1])\n",
    "    feature_extractor.eval()\n",
    "    \n",
    "    # 图像预处理\n",
    "    transform = transforms.Compose([\n",
    "        transforms.Resize((224, 224)),\n",
    "        transforms.ToTensor(),\n",
    "        transforms.Normalize(mean=[0.485, 0.456, 0.406], \n",
    "                           std=[0.229, 0.224, 0.225])\n",
    "    ])\n",
    "    \n",
    "    try:\n",
    "        image = Image.open(image_path).convert('RGB')\n",
    "        \n",
    "        # 如果有边界框，裁剪区域\n",
    "        if bbox is not None:\n",
    "            x1, y1, x2, y2 = bbox\n",
    "            image = image.crop((x1, y1, x2, y2))\n",
    "        \n",
    "        # 预处理\n",
    "        image_tensor = transform(image).unsqueeze(0)\n",
    "        \n",
    "        # 提取特征\n",
    "        with torch.no_grad():\n",
    "            features = feature_extractor(image_tensor)\n",
    "            features = features.view(features.size(0), -1)\n",
    "            \n",
    "        return features.numpy().flatten()\n",
    "        \n",
    "    except Exception as e:\n",
    "        print(f\"Error processing {image_path}: {e}\")\n",
    "        return None\n"
   ],
   "id": "b41b1cd649f477c5",
   "outputs": [],
   "execution_count": 7
  },
  {
   "metadata": {
    "ExecuteTime": {
     "end_time": "2025-10-24T01:46:41.281457Z",
     "start_time": "2025-10-24T01:46:41.272983Z"
    }
   },
   "cell_type": "code",
   "source": [
    "def load_bboxes(txt_path):\n",
    "    \"\"\"加载边界框信息\"\"\"\n",
    "    bboxes = []\n",
    "    try:\n",
    "        with open(txt_path, 'r') as f:\n",
    "            for line in f:\n",
    "                data = line.strip().split()\n",
    "                if len(data) >= 5:\n",
    "                    bboxes.append([float(x) for x in data[1:5]])\n",
    "        return bboxes\n",
    "    except:\n",
    "        return []\n",
    "\n"
   ],
   "id": "3c6d9fd1cc91e268",
   "outputs": [],
   "execution_count": 8
  },
  {
   "metadata": {
    "ExecuteTime": {
     "end_time": "2025-10-24T01:46:42.109729Z",
     "start_time": "2025-10-24T01:46:42.097507Z"
    }
   },
   "cell_type": "code",
   "source": [
    "def bbox_to_xyxy(bbox, img_width, img_height):\n",
    "    \"\"\"将YOLO格式转换为实际坐标\"\"\"\n",
    "    x_center, y_center, width, height = bbox\n",
    "    x1 = int((x_center - width/2) * img_width)\n",
    "    y1 = int((y_center - height/2) * img_height)\n",
    "    x2 = int((x_center + width/2) * img_width)\n",
    "    y2 = int((y_center + height/2) * img_height)\n",
    "    \n",
    "    # 确保坐标在图像范围内\n",
    "    x1 = max(0, min(x1, img_width))\n",
    "    y1 = max(0, min(y1, img_height))\n",
    "    x2 = max(0, min(x2, img_width))\n",
    "    y2 = max(0, min(y2, img_height))\n",
    "    \n",
    "    return [x1, y1, x2, y2]\n"
   ],
   "id": "4c0ad96db07a4816",
   "outputs": [],
   "execution_count": 9
  },
  {
   "metadata": {
    "ExecuteTime": {
     "end_time": "2025-10-24T01:46:43.064330Z",
     "start_time": "2025-10-24T01:46:43.056992Z"
    }
   },
   "cell_type": "code",
   "source": [
    "def extract_all_gallery_features(gallery_path, feature_extractor):\n",
    "    \"\"\"提取所有gallery图像的特征\"\"\"\n",
    "    features_dict = {}\n",
    "    \n",
    "    print(\"开始提取gallery图像特征...\")\n",
    "    image_files = [f for f in os.listdir(gallery_path) \n",
    "                  if f.lower().endswith(('png', 'jpg', 'jpeg'))]\n",
    "    \n",
    "    for i, filename in enumerate(image_files):\n",
    "        if i % 1000 == 0:\n",
    "            print(f\"已处理 {i}/{len(image_files)} 张图像\")\n",
    "            \n",
    "        image_path = os.path.join(gallery_path, filename)\n",
    "        features = feature_extractor.extract_features(image_path)\n",
    "        \n",
    "        if features is not None:\n",
    "            features_dict[filename] = features\n",
    "    \n",
    "    print(f\"特征提取完成，共提取 {len(features_dict)} 张图像的特征\")\n",
    "    return features_dict"
   ],
   "id": "c0bb0640caa3ae81",
   "outputs": [],
   "execution_count": 10
  },
  {
   "metadata": {
    "ExecuteTime": {
     "end_time": "2025-10-24T01:46:43.992136Z",
     "start_time": "2025-10-24T01:46:43.984800Z"
    }
   },
   "cell_type": "code",
   "source": [
    "def search_similar_images_all(query_features, gallery_features_dict):\n",
    "    \"\"\"搜索所有相似图像（返回完整排序列表）\"\"\"\n",
    "    similarities = {}\n",
    "    \n",
    "    # 准备特征矩阵\n",
    "    gallery_filenames = list(gallery_features_dict.keys())\n",
    "    gallery_features = np.array([gallery_features_dict[name] for name in gallery_filenames])\n",
    "    \n",
    "    # 计算余弦相似度\n",
    "    query_features = query_features.reshape(1, -1)\n",
    "    sim_scores = cosine_similarity(query_features, gallery_features)[0]\n",
    "    \n",
    "    # 获取所有图像的相似度\n",
    "    for i, filename in enumerate(gallery_filenames):\n",
    "        similarities[filename] = sim_scores[i]\n",
    "    \n",
    "    # 按相似度排序（降序）\n",
    "    sorted_similarities = sorted(similarities.items(), key=lambda x: x[1], reverse=True)\n",
    "    \n",
    "    return sorted_similarities\n"
   ],
   "id": "2225b44538d9c1b7",
   "outputs": [],
   "execution_count": 11
  },
  {
   "metadata": {
    "ExecuteTime": {
     "end_time": "2025-10-24T01:46:44.848432Z",
     "start_time": "2025-10-24T01:46:44.837662Z"
    }
   },
   "cell_type": "code",
   "source": [
    "def visualize_results(query_image_path, bbox, results, gallery_path, query_id):\n",
    "    \"\"\"可视化查询结果\"\"\"\n",
    "    # 加载查询图像并绘制边界框\n",
    "    query_img = Image.open(query_image_path).convert('RGB')\n",
    "    if bbox is not None:\n",
    "        x1, y1, x2, y2 = bbox\n",
    "        query_img_with_bbox = query_img.copy()\n",
    "        draw = ImageDraw.Draw(query_img_with_bbox)\n",
    "        draw.rectangle([x1, y1, x2, y2], outline='red', width=3)\n",
    "    else:\n",
    "        query_img_with_bbox = query_img\n",
    "    \n",
    "    # 创建结果图\n",
    "    fig, axes = plt.subplots(3, 4, figsize=(15, 12))\n",
    "    axes = axes.ravel()\n",
    "    \n",
    "    # 显示查询图像\n",
    "    axes[0].imshow(query_img_with_bbox)\n",
    "    axes[0].set_title(f'Query Image {query_id}')\n",
    "    axes[0].axis('off')\n",
    "    \n",
    "    # 显示前11个结果（跳过第一个位置）\n",
    "    for i, (result_filename, similarity) in enumerate(results[:11]):\n",
    "        result_path = os.path.join(gallery_path, result_filename)\n",
    "        try:\n",
    "            result_img = Image.open(result_path).convert('RGB')\n",
    "            axes[i+1].imshow(result_img)\n",
    "            axes[i+1].set_title(f'Rank {i+1}\\nSim: {similarity:.3f}')\n",
    "            axes[i+1].axis('off')\n",
    "        except:\n",
    "            axes[i+1].text(0.5, 0.5, f'Error loading\\n{result_filename}', \n",
    "                          ha='center', va='center')\n",
    "            axes[i+1].axis('off')\n",
    "    \n",
    "    # 隐藏多余的子图\n",
    "    for i in range(len(results) + 1, 12):\n",
    "        axes[i].axis('off')\n",
    "    \n",
    "    plt.tight_layout()\n",
    "    plt.savefig(f'alexnet_query_{query_id}_results.png', dpi=150, bbox_inches='tight')\n",
    "    plt.show()"
   ],
   "id": "1afed69d7d2586bf",
   "outputs": [],
   "execution_count": 12
  },
  {
   "metadata": {
    "ExecuteTime": {
     "end_time": "2025-10-24T01:46:45.792900Z",
     "start_time": "2025-10-24T01:46:45.777019Z"
    }
   },
   "cell_type": "code",
   "source": [
    "def safe_save_features(features_dict, filepath):\n",
    "    \"\"\"安全保存特征\"\"\"\n",
    "    try:\n",
    "        with open(filepath, 'wb') as f:\n",
    "            pickle.dump(features_dict, f, protocol=pickle.HIGHEST_PROTOCOL)\n",
    "        print(f\" 特征保存成功: {filepath}\")\n",
    "        return True\n",
    "    except Exception as e:\n",
    "        print(f\" 特征保存失败: {e}\")\n",
    "        return False\n",
    "\n",
    "def safe_load_features(filepath):\n",
    "    \"\"\"安全加载特征\"\"\"\n",
    "    try:\n",
    "        with open(filepath, 'rb') as f:\n",
    "            features_dict = pickle.load(f)\n",
    "        print(f\" 特征加载成功: {len(features_dict)} 个特征\")\n",
    "        return features_dict\n",
    "    except Exception as e:\n",
    "        print(f\" 特征加载失败: {e}\")\n",
    "        return None"
   ],
   "id": "3dd26490ecdc1693",
   "outputs": [],
   "execution_count": 13
  },
  {
   "metadata": {
    "ExecuteTime": {
     "end_time": "2025-10-24T01:46:46.644031Z",
     "start_time": "2025-10-24T01:46:46.637020Z"
    }
   },
   "cell_type": "code",
   "source": [
    "def generate_rank_list_file(all_query_results, output_file=\"rankList_alexnet.txt\"):\n",
    "    \"\"\"生成排名列表文件\"\"\"\n",
    "    print(f\"生成排名列表文件: {output_file}\")\n",
    "    \n",
    "    with open(output_file, 'w') as f:\n",
    "        for query_id in sorted(all_query_results.keys()):\n",
    "            results = all_query_results[query_id]\n",
    "            # 提取图像编号（从文件名中提取数字）\n",
    "            image_numbers = []\n",
    "            for filename, similarity in results:\n",
    "                # 从文件名中提取数字\n",
    "                base_name = os.path.splitext(filename)[0]\n",
    "                # 移除可能的文件扩展名和非数字字符\n",
    "                import re\n",
    "                numbers = re.findall(r'\\d+', base_name)\n",
    "                if numbers:\n",
    "                    image_numbers.append(numbers[0])  # 使用找到的第一个数字\n",
    "                else:\n",
    "                    image_numbers.append(base_name)  # 如果没有数字，使用原名称\n",
    "            \n",
    "            # 写入格式: Q1: 7 12 214 350...\n",
    "            line = f\"Q{query_id}: \" + \" \".join(image_numbers) + \"\\n\"\n",
    "            f.write(line)\n",
    "    \n",
    "    print(f\"排名列表已保存到: {output_file}\")\n",
    "    print(f\"总共处理了 {len(all_query_results)} 个查询\")\n"
   ],
   "id": "f23e8f0cf311f6c7",
   "outputs": [],
   "execution_count": 14
  },
  {
   "metadata": {
    "ExecuteTime": {
     "end_time": "2025-10-24T01:46:49.667312Z",
     "start_time": "2025-10-24T01:46:47.482325Z"
    }
   },
   "cell_type": "code",
   "source": [
    "def main_alexnet_ranklist():\n",
    "    \"\"\"AlexNet主函数 - 生成排名列表\"\"\"\n",
    "    \n",
    "    # 检查特征数据库文件是否存在\n",
    "    gallery_features_path = \"gallery_features_alexnet.pkl\"\n",
    "    if not os.path.exists(gallery_features_path):\n",
    "        print(f\"错误: 特征数据库文件 {gallery_features_path} 不存在\")\n",
    "        print(\"请确保文件在正确路径下\")\n",
    "        return\n",
    "    \n",
    "    # 加载gallery特征\n",
    "    print(\"加载gallery特征数据库...\")\n",
    "    with open(gallery_features_path, 'rb') as f:\n",
    "        gallery_features_dict = pickle.load(f)\n",
    "    \n",
    "    print(f\"成功加载 {len(gallery_features_dict)} 个图像的特征\")\n",
    "    \n",
    "    # 存储所有查询结果\n",
    "    all_query_results = {}\n",
    "    \n",
    "    # 处理查询图像\n",
    "    query_images_path = \"query_images\"\n",
    "    query_txt_path = \"query_txt\"\n",
    "    \n",
    "    # 检查目录是否存在\n",
    "    if not os.path.exists(query_images_path):\n",
    "        print(f\"错误: 查询图像目录 {query_images_path} 不存在\")\n",
    "        return\n",
    "    \n",
    "    if not os.path.exists(query_txt_path):\n",
    "        print(f\"错误: 查询文本目录 {query_txt_path} 不存在\")\n",
    "        return\n",
    "    \n",
    "    # 处理所有50个查询\n",
    "    for i in range(1, 51):\n",
    "        # 尝试不同的文件名格式\n",
    "        possible_filenames = [\n",
    "            f\"query_{i}.jpg\",\n",
    "            f\"query_{i}.png\", \n",
    "            f\"query_{i}.jpeg\",\n",
    "            f\"{i}.jpg\",\n",
    "            f\"{i}.png\"\n",
    "        ]\n",
    "        \n",
    "        query_filename = None\n",
    "        query_image_path = None\n",
    "        \n",
    "        # 查找实际存在的文件\n",
    "        for filename in possible_filenames:\n",
    "            temp_path = os.path.join(query_images_path, filename)\n",
    "            if os.path.exists(temp_path):\n",
    "                query_filename = filename\n",
    "                query_image_path = temp_path\n",
    "                break\n",
    "        \n",
    "        if query_image_path is None:\n",
    "            print(f\"跳过查询 {i}，未找到图像文件\")\n",
    "            all_query_results[i] = []  # 空结果\n",
    "            continue\n",
    "        \n",
    "        # 对应的文本文件\n",
    "        possible_txtnames = [\n",
    "            f\"query_{i}.txt\",\n",
    "            f\"{i}.txt\",\n",
    "            query_filename.replace('.jpg', '.txt').replace('.png', '.txt').replace('.jpeg', '.txt')\n",
    "        ]\n",
    "        \n",
    "        txt_path = None\n",
    "        for txtname in possible_txtnames:\n",
    "            temp_txt_path = os.path.join(query_txt_path, txtname)\n",
    "            if os.path.exists(temp_txt_path):\n",
    "                txt_path = temp_txt_path\n",
    "                break\n",
    "        \n",
    "        if txt_path is None:\n",
    "            print(f\"跳过查询 {i}，边界框文件不存在\")\n",
    "            all_query_results[i] = []  # 空结果\n",
    "            continue\n",
    "        \n",
    "        print(f\"处理查询 {i}: {query_filename}\")\n",
    "        \n",
    "        # 加载查询图像获取尺寸\n",
    "        try:\n",
    "            query_img = Image.open(query_image_path)\n",
    "            img_width, img_height = query_img.size\n",
    "        except Exception as e:\n",
    "            print(f\"加载查询图像 {query_image_path} 时出错: {e}\")\n",
    "            all_query_results[i] = []  # 空结果\n",
    "            continue\n",
    "        \n",
    "        # 加载边界框\n",
    "        bboxes = load_bboxes(txt_path)\n",
    "        if not bboxes:\n",
    "            print(f\"查询 {i} 没有找到边界框，使用整张图像\")\n",
    "            bbox = None\n",
    "        else:\n",
    "            bbox = bbox_to_xyxy(bboxes[0], img_width, img_height)\n",
    "            print(f\"使用边界框: {bbox}\")\n",
    "        \n",
    "        # 提取查询特征\n",
    "        query_features = extract_alexnet_features_from_image(query_image_path, bbox)\n",
    "        if query_features is None:\n",
    "            print(f\"无法提取查询 {i} 的特征\")\n",
    "            all_query_results[i] = []  # 空结果\n",
    "            continue\n",
    "        \n",
    "        # 搜索相似图像（返回所有28493张图像的排序）\n",
    "        print(f\"为查询 {i} 搜索相似图像...\")\n",
    "        results = search_similar_images_all(query_features, gallery_features_dict)\n",
    "        \n",
    "        # 存储这个查询的所有结果\n",
    "        all_query_results[i] = results\n",
    "        \n",
    "        # 显示前5个结果\n",
    "        print(f\"查询 {i} 的前5个结果:\")\n",
    "        for rank, (filename, similarity) in enumerate(results[:5], 1):\n",
    "            print(f\"  Rank {rank}: {filename} (相似度: {similarity:.4f})\")\n",
    "    \n",
    "    # 生成排名列表文件\n",
    "    generate_rank_list_file(all_query_results, \"rankList_alexnet.txt\")\n",
    "    \n",
    "    print(\"\\n AlexNet排名列表生成完成！\")\n",
    "\n",
    "# 运行主函数\n",
    "if __name__ == \"__main__\":\n",
    "    main_alexnet_ranklist()\n"
   ],
   "id": "f770acb0d0274834",
   "outputs": [
    {
     "name": "stdout",
     "output_type": "stream",
     "text": [
      "加载gallery特征数据库...\n",
      "成功加载 28493 个图像的特征\n",
      "处理查询 1: 1.jpg\n",
      "查询 1 没有找到边界框，使用整张图像\n"
     ]
    },
    {
     "ename": "ModuleNotFoundError",
     "evalue": "No module named 'torch'",
     "output_type": "error",
     "traceback": [
      "\u001B[1;31m---------------------------------------------------------------------------\u001B[0m",
      "\u001B[1;31mModuleNotFoundError\u001B[0m                       Traceback (most recent call last)",
      "Cell \u001B[1;32mIn[15], line 126\u001B[0m\n\u001B[0;32m    124\u001B[0m \u001B[38;5;66;03m# 运行主函数\u001B[39;00m\n\u001B[0;32m    125\u001B[0m \u001B[38;5;28;01mif\u001B[39;00m \u001B[38;5;18m__name__\u001B[39m \u001B[38;5;241m==\u001B[39m \u001B[38;5;124m\"\u001B[39m\u001B[38;5;124m__main__\u001B[39m\u001B[38;5;124m\"\u001B[39m:\n\u001B[1;32m--> 126\u001B[0m     main_alexnet_ranklist()\n",
      "Cell \u001B[1;32mIn[15], line 101\u001B[0m, in \u001B[0;36mmain_alexnet_ranklist\u001B[1;34m()\u001B[0m\n\u001B[0;32m     98\u001B[0m     \u001B[38;5;28mprint\u001B[39m(\u001B[38;5;124mf\u001B[39m\u001B[38;5;124m\"\u001B[39m\u001B[38;5;124m使用边界框: \u001B[39m\u001B[38;5;132;01m{\u001B[39;00mbbox\u001B[38;5;132;01m}\u001B[39;00m\u001B[38;5;124m\"\u001B[39m)\n\u001B[0;32m    100\u001B[0m \u001B[38;5;66;03m# 提取查询特征\u001B[39;00m\n\u001B[1;32m--> 101\u001B[0m query_features \u001B[38;5;241m=\u001B[39m extract_alexnet_features_from_image(query_image_path, bbox)\n\u001B[0;32m    102\u001B[0m \u001B[38;5;28;01mif\u001B[39;00m query_features \u001B[38;5;129;01mis\u001B[39;00m \u001B[38;5;28;01mNone\u001B[39;00m:\n\u001B[0;32m    103\u001B[0m     \u001B[38;5;28mprint\u001B[39m(\u001B[38;5;124mf\u001B[39m\u001B[38;5;124m\"\u001B[39m\u001B[38;5;124m无法提取查询 \u001B[39m\u001B[38;5;132;01m{\u001B[39;00mi\u001B[38;5;132;01m}\u001B[39;00m\u001B[38;5;124m 的特征\u001B[39m\u001B[38;5;124m\"\u001B[39m)\n",
      "Cell \u001B[1;32mIn[7], line 3\u001B[0m, in \u001B[0;36mextract_alexnet_features_from_image\u001B[1;34m(image_path, bbox)\u001B[0m\n\u001B[0;32m      1\u001B[0m \u001B[38;5;28;01mdef\u001B[39;00m \u001B[38;5;21mextract_alexnet_features_from_image\u001B[39m(image_path, bbox\u001B[38;5;241m=\u001B[39m\u001B[38;5;28;01mNone\u001B[39;00m):\n\u001B[0;32m      2\u001B[0m \u001B[38;5;250m    \u001B[39m\u001B[38;5;124;03m\"\"\"使用预训练的AlexNet提取特征（简化版本）\"\"\"\u001B[39;00m\n\u001B[1;32m----> 3\u001B[0m     \u001B[38;5;28;01mimport\u001B[39;00m \u001B[38;5;21;01mtorch\u001B[39;00m\n\u001B[0;32m      4\u001B[0m     \u001B[38;5;28;01mimport\u001B[39;00m \u001B[38;5;21;01mtorchvision\u001B[39;00m\u001B[38;5;21;01m.\u001B[39;00m\u001B[38;5;21;01mmodels\u001B[39;00m \u001B[38;5;28;01mas\u001B[39;00m \u001B[38;5;21;01mmodels\u001B[39;00m\n\u001B[0;32m      5\u001B[0m     \u001B[38;5;28;01mimport\u001B[39;00m \u001B[38;5;21;01mtorchvision\u001B[39;00m\u001B[38;5;21;01m.\u001B[39;00m\u001B[38;5;21;01mtransforms\u001B[39;00m \u001B[38;5;28;01mas\u001B[39;00m \u001B[38;5;21;01mtransforms\u001B[39;00m\n",
      "\u001B[1;31mModuleNotFoundError\u001B[0m: No module named 'torch'"
     ]
    }
   ],
   "execution_count": 15
  },
  {
   "metadata": {
    "ExecuteTime": {
     "end_time": "2025-10-24T01:15:01.456118Z",
     "start_time": "2025-10-24T01:15:01.179075Z"
    }
   },
   "cell_type": "code",
   "source": [
    "# 在notebook中运行这个来生成AlexNet的排名列表\n",
    "if __name__ == \"__main__\":\n",
    "    main_with_ranklist()"
   ],
   "id": "219a97f4be60003b",
   "outputs": [
    {
     "ename": "NameError",
     "evalue": "name 'AlexNetFeatureExtractor' is not defined",
     "output_type": "error",
     "traceback": [
      "\u001B[1;31m---------------------------------------------------------------------------\u001B[0m",
      "\u001B[1;31mNameError\u001B[0m                                 Traceback (most recent call last)",
      "Cell \u001B[1;32mIn[22], line 3\u001B[0m\n\u001B[0;32m      1\u001B[0m \u001B[38;5;66;03m# 在notebook中运行这个来生成AlexNet的排名列表\u001B[39;00m\n\u001B[0;32m      2\u001B[0m \u001B[38;5;28;01mif\u001B[39;00m \u001B[38;5;18m__name__\u001B[39m \u001B[38;5;241m==\u001B[39m \u001B[38;5;124m\"\u001B[39m\u001B[38;5;124m__main__\u001B[39m\u001B[38;5;124m\"\u001B[39m:\n\u001B[1;32m----> 3\u001B[0m     \u001B[43mmain_with_ranklist\u001B[49m\u001B[43m(\u001B[49m\u001B[43m)\u001B[49m\n",
      "Cell \u001B[1;32mIn[21], line 5\u001B[0m, in \u001B[0;36mmain_with_ranklist\u001B[1;34m()\u001B[0m\n\u001B[0;32m      2\u001B[0m \u001B[38;5;250m\u001B[39m\u001B[38;5;124;03m\"\"\"带有排名列表输出的AlexNet主函数\"\"\"\u001B[39;00m\n\u001B[0;32m      4\u001B[0m \u001B[38;5;66;03m# 初始化特征提取器\u001B[39;00m\n\u001B[1;32m----> 5\u001B[0m feature_extractor \u001B[38;5;241m=\u001B[39m \u001B[43mAlexNetFeatureExtractor\u001B[49m()\n\u001B[0;32m      7\u001B[0m \u001B[38;5;66;03m# 提取所有gallery图像特征\u001B[39;00m\n\u001B[0;32m      8\u001B[0m gallery_features_path \u001B[38;5;241m=\u001B[39m \u001B[38;5;124m\"\u001B[39m\u001B[38;5;124mgallery_features_alexnet.pkl\u001B[39m\u001B[38;5;124m\"\u001B[39m\n",
      "\u001B[1;31mNameError\u001B[0m: name 'AlexNetFeatureExtractor' is not defined"
     ]
    }
   ],
   "execution_count": 22
  },
  {
   "metadata": {},
   "cell_type": "code",
   "outputs": [],
   "execution_count": null,
   "source": "",
   "id": "a86c5c5adfba458e"
  }
 ],
 "metadata": {
  "kernelspec": {
   "display_name": "Python 3",
   "language": "python",
   "name": "python3"
  },
  "language_info": {
   "codemirror_mode": {
    "name": "ipython",
    "version": 2
   },
   "file_extension": ".py",
   "mimetype": "text/x-python",
   "name": "python",
   "nbconvert_exporter": "python",
   "pygments_lexer": "ipython2",
   "version": "2.7.6"
  }
 },
 "nbformat": 4,
 "nbformat_minor": 5
}
